{
 "cells": [
  {
   "cell_type": "code",
   "execution_count": 10,
   "metadata": {},
   "outputs": [],
   "source": [
    "import numpy as np\n",
    "import pandas as pd \n",
    "import matplotlib.pyplot as plt \n",
    "%matplotlib inline\n",
    "import seaborn as sns\n",
    "from sklearn.preprocessing import StandardScaler\n",
    "from sklearn.model_selection import train_test_split\n",
    "from sklearn.metrics import mean_squared_error \n",
    "from sklearn.linear_model import LinearRegression\n",
    "from sklearn.model_selection import GridSearchCV\n",
    "from sklearn.linear_model import Ridge\n",
    "from sklearn.linear_model import Lasso\n",
    "from sklearn.svm import SVR\n",
    "from sklearn.ensemble import RandomForestRegressor\n",
    "\n",
    "\n",
    "\n"
   ]
  },
  {
   "cell_type": "code",
   "execution_count": 2,
   "metadata": {},
   "outputs": [],
   "source": [
    "train = pd.read_csv(\"train.csv\")\n",
    "test = pd.read_csv(\"test.csv\")"
   ]
  },
  {
   "cell_type": "code",
   "execution_count": 22,
   "metadata": {},
   "outputs": [
    {
     "data": {
      "text/plain": [
       "8523"
      ]
     },
     "execution_count": 22,
     "metadata": {},
     "output_type": "execute_result"
    }
   ],
   "source": [
    "len(train)"
   ]
  },
  {
   "cell_type": "code",
   "execution_count": 26,
   "metadata": {},
   "outputs": [
    {
     "data": {
      "text/html": [
       "<div>\n",
       "<style scoped>\n",
       "    .dataframe tbody tr th:only-of-type {\n",
       "        vertical-align: middle;\n",
       "    }\n",
       "\n",
       "    .dataframe tbody tr th {\n",
       "        vertical-align: top;\n",
       "    }\n",
       "\n",
       "    .dataframe thead th {\n",
       "        text-align: right;\n",
       "    }\n",
       "</style>\n",
       "<table border=\"1\" class=\"dataframe\">\n",
       "  <thead>\n",
       "    <tr style=\"text-align: right;\">\n",
       "      <th></th>\n",
       "      <th>Item_Identifier</th>\n",
       "      <th>Item_Weight</th>\n",
       "      <th>Item_Fat_Content</th>\n",
       "      <th>Item_Visibility</th>\n",
       "      <th>Item_Type</th>\n",
       "      <th>Item_MRP</th>\n",
       "      <th>Outlet_Identifier</th>\n",
       "      <th>Outlet_Establishment_Year</th>\n",
       "      <th>Outlet_Size</th>\n",
       "      <th>Outlet_Location_Type</th>\n",
       "      <th>Outlet_Type</th>\n",
       "      <th>Item_Outlet_Sales</th>\n",
       "    </tr>\n",
       "  </thead>\n",
       "  <tbody>\n",
       "    <tr>\n",
       "      <th>0</th>\n",
       "      <td>FDA15</td>\n",
       "      <td>9.30</td>\n",
       "      <td>Low Fat</td>\n",
       "      <td>0.016047</td>\n",
       "      <td>Dairy</td>\n",
       "      <td>249.8092</td>\n",
       "      <td>OUT049</td>\n",
       "      <td>1999</td>\n",
       "      <td>Medium</td>\n",
       "      <td>Tier 1</td>\n",
       "      <td>Supermarket Type1</td>\n",
       "      <td>3735.1380</td>\n",
       "    </tr>\n",
       "    <tr>\n",
       "      <th>1</th>\n",
       "      <td>DRC01</td>\n",
       "      <td>5.92</td>\n",
       "      <td>Regular</td>\n",
       "      <td>0.019278</td>\n",
       "      <td>Soft Drinks</td>\n",
       "      <td>48.2692</td>\n",
       "      <td>OUT018</td>\n",
       "      <td>2009</td>\n",
       "      <td>Medium</td>\n",
       "      <td>Tier 3</td>\n",
       "      <td>Supermarket Type2</td>\n",
       "      <td>443.4228</td>\n",
       "    </tr>\n",
       "    <tr>\n",
       "      <th>2</th>\n",
       "      <td>FDN15</td>\n",
       "      <td>17.50</td>\n",
       "      <td>Low Fat</td>\n",
       "      <td>0.016760</td>\n",
       "      <td>Meat</td>\n",
       "      <td>141.6180</td>\n",
       "      <td>OUT049</td>\n",
       "      <td>1999</td>\n",
       "      <td>Medium</td>\n",
       "      <td>Tier 1</td>\n",
       "      <td>Supermarket Type1</td>\n",
       "      <td>2097.2700</td>\n",
       "    </tr>\n",
       "    <tr>\n",
       "      <th>3</th>\n",
       "      <td>FDX07</td>\n",
       "      <td>19.20</td>\n",
       "      <td>Regular</td>\n",
       "      <td>0.000000</td>\n",
       "      <td>Fruits and Vegetables</td>\n",
       "      <td>182.0950</td>\n",
       "      <td>OUT010</td>\n",
       "      <td>1998</td>\n",
       "      <td>NaN</td>\n",
       "      <td>Tier 3</td>\n",
       "      <td>Grocery Store</td>\n",
       "      <td>732.3800</td>\n",
       "    </tr>\n",
       "    <tr>\n",
       "      <th>4</th>\n",
       "      <td>NCD19</td>\n",
       "      <td>8.93</td>\n",
       "      <td>Low Fat</td>\n",
       "      <td>0.000000</td>\n",
       "      <td>Household</td>\n",
       "      <td>53.8614</td>\n",
       "      <td>OUT013</td>\n",
       "      <td>1987</td>\n",
       "      <td>High</td>\n",
       "      <td>Tier 3</td>\n",
       "      <td>Supermarket Type1</td>\n",
       "      <td>994.7052</td>\n",
       "    </tr>\n",
       "  </tbody>\n",
       "</table>\n",
       "</div>"
      ],
      "text/plain": [
       "  Item_Identifier  Item_Weight Item_Fat_Content  Item_Visibility  \\\n",
       "0           FDA15         9.30          Low Fat         0.016047   \n",
       "1           DRC01         5.92          Regular         0.019278   \n",
       "2           FDN15        17.50          Low Fat         0.016760   \n",
       "3           FDX07        19.20          Regular         0.000000   \n",
       "4           NCD19         8.93          Low Fat         0.000000   \n",
       "\n",
       "               Item_Type  Item_MRP Outlet_Identifier  \\\n",
       "0                  Dairy  249.8092            OUT049   \n",
       "1            Soft Drinks   48.2692            OUT018   \n",
       "2                   Meat  141.6180            OUT049   \n",
       "3  Fruits and Vegetables  182.0950            OUT010   \n",
       "4              Household   53.8614            OUT013   \n",
       "\n",
       "   Outlet_Establishment_Year Outlet_Size Outlet_Location_Type  \\\n",
       "0                       1999      Medium               Tier 1   \n",
       "1                       2009      Medium               Tier 3   \n",
       "2                       1999      Medium               Tier 1   \n",
       "3                       1998         NaN               Tier 3   \n",
       "4                       1987        High               Tier 3   \n",
       "\n",
       "         Outlet_Type  Item_Outlet_Sales  \n",
       "0  Supermarket Type1          3735.1380  \n",
       "1  Supermarket Type2           443.4228  \n",
       "2  Supermarket Type1          2097.2700  \n",
       "3      Grocery Store           732.3800  \n",
       "4  Supermarket Type1           994.7052  "
      ]
     },
     "execution_count": 26,
     "metadata": {},
     "output_type": "execute_result"
    }
   ],
   "source": [
    "train.head()"
   ]
  },
  {
   "cell_type": "code",
   "execution_count": 27,
   "metadata": {},
   "outputs": [
    {
     "data": {
      "text/html": [
       "<div>\n",
       "<style scoped>\n",
       "    .dataframe tbody tr th:only-of-type {\n",
       "        vertical-align: middle;\n",
       "    }\n",
       "\n",
       "    .dataframe tbody tr th {\n",
       "        vertical-align: top;\n",
       "    }\n",
       "\n",
       "    .dataframe thead th {\n",
       "        text-align: right;\n",
       "    }\n",
       "</style>\n",
       "<table border=\"1\" class=\"dataframe\">\n",
       "  <thead>\n",
       "    <tr style=\"text-align: right;\">\n",
       "      <th></th>\n",
       "      <th>Item_Identifier</th>\n",
       "      <th>Item_Weight</th>\n",
       "      <th>Item_Fat_Content</th>\n",
       "      <th>Item_Visibility</th>\n",
       "      <th>Item_Type</th>\n",
       "      <th>Item_MRP</th>\n",
       "      <th>Outlet_Identifier</th>\n",
       "      <th>Outlet_Establishment_Year</th>\n",
       "      <th>Outlet_Size</th>\n",
       "      <th>Outlet_Location_Type</th>\n",
       "      <th>Outlet_Type</th>\n",
       "    </tr>\n",
       "  </thead>\n",
       "  <tbody>\n",
       "    <tr>\n",
       "      <th>0</th>\n",
       "      <td>FDW58</td>\n",
       "      <td>20.750</td>\n",
       "      <td>Low Fat</td>\n",
       "      <td>0.007565</td>\n",
       "      <td>Snack Foods</td>\n",
       "      <td>107.8622</td>\n",
       "      <td>OUT049</td>\n",
       "      <td>1999</td>\n",
       "      <td>Medium</td>\n",
       "      <td>Tier 1</td>\n",
       "      <td>Supermarket Type1</td>\n",
       "    </tr>\n",
       "    <tr>\n",
       "      <th>1</th>\n",
       "      <td>FDW14</td>\n",
       "      <td>8.300</td>\n",
       "      <td>reg</td>\n",
       "      <td>0.038428</td>\n",
       "      <td>Dairy</td>\n",
       "      <td>87.3198</td>\n",
       "      <td>OUT017</td>\n",
       "      <td>2007</td>\n",
       "      <td>NaN</td>\n",
       "      <td>Tier 2</td>\n",
       "      <td>Supermarket Type1</td>\n",
       "    </tr>\n",
       "    <tr>\n",
       "      <th>2</th>\n",
       "      <td>NCN55</td>\n",
       "      <td>14.600</td>\n",
       "      <td>Low Fat</td>\n",
       "      <td>0.099575</td>\n",
       "      <td>Others</td>\n",
       "      <td>241.7538</td>\n",
       "      <td>OUT010</td>\n",
       "      <td>1998</td>\n",
       "      <td>NaN</td>\n",
       "      <td>Tier 3</td>\n",
       "      <td>Grocery Store</td>\n",
       "    </tr>\n",
       "    <tr>\n",
       "      <th>3</th>\n",
       "      <td>FDQ58</td>\n",
       "      <td>7.315</td>\n",
       "      <td>Low Fat</td>\n",
       "      <td>0.015388</td>\n",
       "      <td>Snack Foods</td>\n",
       "      <td>155.0340</td>\n",
       "      <td>OUT017</td>\n",
       "      <td>2007</td>\n",
       "      <td>NaN</td>\n",
       "      <td>Tier 2</td>\n",
       "      <td>Supermarket Type1</td>\n",
       "    </tr>\n",
       "    <tr>\n",
       "      <th>4</th>\n",
       "      <td>FDY38</td>\n",
       "      <td>NaN</td>\n",
       "      <td>Regular</td>\n",
       "      <td>0.118599</td>\n",
       "      <td>Dairy</td>\n",
       "      <td>234.2300</td>\n",
       "      <td>OUT027</td>\n",
       "      <td>1985</td>\n",
       "      <td>Medium</td>\n",
       "      <td>Tier 3</td>\n",
       "      <td>Supermarket Type3</td>\n",
       "    </tr>\n",
       "  </tbody>\n",
       "</table>\n",
       "</div>"
      ],
      "text/plain": [
       "  Item_Identifier  Item_Weight Item_Fat_Content  Item_Visibility    Item_Type  \\\n",
       "0           FDW58       20.750          Low Fat         0.007565  Snack Foods   \n",
       "1           FDW14        8.300              reg         0.038428        Dairy   \n",
       "2           NCN55       14.600          Low Fat         0.099575       Others   \n",
       "3           FDQ58        7.315          Low Fat         0.015388  Snack Foods   \n",
       "4           FDY38          NaN          Regular         0.118599        Dairy   \n",
       "\n",
       "   Item_MRP Outlet_Identifier  Outlet_Establishment_Year Outlet_Size  \\\n",
       "0  107.8622            OUT049                       1999      Medium   \n",
       "1   87.3198            OUT017                       2007         NaN   \n",
       "2  241.7538            OUT010                       1998         NaN   \n",
       "3  155.0340            OUT017                       2007         NaN   \n",
       "4  234.2300            OUT027                       1985      Medium   \n",
       "\n",
       "  Outlet_Location_Type        Outlet_Type  \n",
       "0               Tier 1  Supermarket Type1  \n",
       "1               Tier 2  Supermarket Type1  \n",
       "2               Tier 3      Grocery Store  \n",
       "3               Tier 2  Supermarket Type1  \n",
       "4               Tier 3  Supermarket Type3  "
      ]
     },
     "execution_count": 27,
     "metadata": {},
     "output_type": "execute_result"
    }
   ],
   "source": [
    "test.head()"
   ]
  },
  {
   "cell_type": "code",
   "execution_count": 25,
   "metadata": {},
   "outputs": [
    {
     "data": {
      "text/plain": [
       "1559"
      ]
     },
     "execution_count": 25,
     "metadata": {},
     "output_type": "execute_result"
    }
   ],
   "source": [
    "train.Item_Identifier.nunique()"
   ]
  },
  {
   "cell_type": "code",
   "execution_count": 16,
   "metadata": {},
   "outputs": [
    {
     "data": {
      "image/png": "[encoded data removed]",
      "text/plain": [
       "<Figure size 432x288 with 1 Axes>"
      ]
     },
     "metadata": {
      "needs_background": "light"
     },
     "output_type": "display_data"
    }
   ],
   "source": [
    "plt.bar(train['Item_Fat_Content'],train[\"Item_Outlet_Sales\"])\n",
    "plt.show()"
   ]
  },
  {
   "cell_type": "code",
   "execution_count": 27,
   "metadata": {},
   "outputs": [
    {
     "data": {
      "image/png": "[encoded data removed]",
      "text/plain": [
       "<Figure size 432x288 with 1 Axes>"
      ]
     },
     "metadata": {
      "needs_background": "light"
     },
     "output_type": "display_data"
    }
   ],
   "source": [
    "plt.barh(train['Item_Type'],train[\"Item_Outlet_Sales\"])\n",
    "plt.show()"
   ]
  },
  {
   "cell_type": "code",
   "execution_count": 18,
   "metadata": {},
   "outputs": [
    {
     "data": {
      "image/png": "[encoded data removed]",
      "text/plain": [
       "<Figure size 432x288 with 1 Axes>"
      ]
     },
     "metadata": {
      "needs_background": "light"
     },
     "output_type": "display_data"
    }
   ],
   "source": [
    "plt.bar(train['Outlet_Location_Type'],train[\"Item_Outlet_Sales\"])\n",
    "plt.show()"
   ]
  },
  {
   "cell_type": "code",
   "execution_count": 28,
   "metadata": {},
   "outputs": [
    {
     "data": {
      "image/png": "[encoded data removed]",
      "text/plain": [
       "<Figure size 432x288 with 1 Axes>"
      ]
     },
     "metadata": {
      "needs_background": "light"
     },
     "output_type": "display_data"
    }
   ],
   "source": [
    "plt.barh(train['Outlet_Type'],train[\"Item_Outlet_Sales\"])\n",
    "plt.show()"
   ]
  },
  {
   "cell_type": "code",
   "execution_count": 20,
   "metadata": {},
   "outputs": [
    {
     "data": {
      "text/plain": [
       "<matplotlib.collections.PathCollection at 0x1a288caba8>"
      ]
     },
     "execution_count": 20,
     "metadata": {},
     "output_type": "execute_result"
    },
    {
     "data": {
      "image/png": "[encoded data removed]",
      "text/plain": [
       "<Figure size 432x288 with 1 Axes>"
      ]
     },
     "metadata": {
      "needs_background": "light"
     },
     "output_type": "display_data"
    }
   ],
   "source": [
    "plt.scatter(train[\"Item_MRP\"],train[\"Item_Outlet_Sales\"])"
   ]
  },
  {
   "cell_type": "code",
   "execution_count": 21,
   "metadata": {},
   "outputs": [
    {
     "data": {
      "text/plain": [
       "<matplotlib.collections.PathCollection at 0x1a283d1240>"
      ]
     },
     "execution_count": 21,
     "metadata": {},
     "output_type": "execute_result"
    },
    {
     "data": {
      "image/png": "[encoded data removed]",
      "text/plain": [
       "<Figure size 432x288 with 1 Axes>"
      ]
     },
     "metadata": {
      "needs_background": "light"
     },
     "output_type": "display_data"
    }
   ],
   "source": [
    "plt.scatter(train[\"Item_Weight\"],train[\"Item_Outlet_Sales\"])"
   ]
  },
  {
   "cell_type": "code",
   "execution_count": 22,
   "metadata": {},
   "outputs": [
    {
     "data": {
      "text/plain": [
       "(array([3.280e+03, 2.448e+03, 1.527e+03, 7.290e+02, 3.590e+02, 1.240e+02,\n",
       "        3.600e+01, 1.600e+01, 2.000e+00, 2.000e+00]),\n",
       " array([   33.29   ,  1338.65748,  2644.02496,  3949.39244,  5254.75992,\n",
       "         6560.1274 ,  7865.49488,  9170.86236, 10476.22984, 11781.59732,\n",
       "        13086.9648 ]),\n",
       " <a list of 10 Patch objects>)"
      ]
     },
     "execution_count": 22,
     "metadata": {},
     "output_type": "execute_result"
    },
    {
     "data": {
      "image/png": "[encoded data removed]",
      "text/plain": [
       "<Figure size 432x288 with 1 Axes>"
      ]
     },
     "metadata": {
      "needs_background": "light"
     },
     "output_type": "display_data"
    }
   ],
   "source": [
    "plt.hist(train[\"Item_Outlet_Sales\"])"
   ]
  },
  {
   "cell_type": "code",
   "execution_count": 26,
   "metadata": {},
   "outputs": [
    {
     "data": {
      "text/plain": [
       "<matplotlib.axes._subplots.AxesSubplot at 0x1a27b91fd0>"
      ]
     },
     "execution_count": 26,
     "metadata": {},
     "output_type": "execute_result"
    },
    {
     "data": {
      "image/png": "[encoded data removed]",
      "text/plain": [
       "<Figure size 432x288 with 2 Axes>"
      ]
     },
     "metadata": {
      "needs_background": "light"
     },
     "output_type": "display_data"
    }
   ],
   "source": [
    "corr_matrix=train.corr()\n",
    "sns.heatmap(corr_matrix, cmap='PuOr')\n"
   ]
  },
  {
   "cell_type": "code",
   "execution_count": 34,
   "metadata": {},
   "outputs": [
    {
     "data": {
      "text/plain": [
       "(array([483., 870., 865., 664., 779., 629., 755., 735., 677., 603.]),\n",
       " array([ 4.555 ,  6.2345,  7.914 ,  9.5935, 11.273 , 12.9525, 14.632 ,\n",
       "        16.3115, 17.991 , 19.6705, 21.35  ]),\n",
       " <a list of 10 Patch objects>)"
      ]
     },
     "execution_count": 34,
     "metadata": {},
     "output_type": "execute_result"
    },
    {
     "data": {
      "image/png": "[encoded data removed]",
      "text/plain": [
       "<Figure size 432x288 with 1 Axes>"
      ]
     },
     "metadata": {
      "needs_background": "light"
     },
     "output_type": "display_data"
    }
   ],
   "source": [
    "# Dealing with missing values in item_weight\n",
    "item_weight = train.Item_Weight.dropna()\n",
    "plt.hist(item_weight)"
   ]
  },
  {
   "cell_type": "code",
   "execution_count": 51,
   "metadata": {},
   "outputs": [
    {
     "data": {
      "text/plain": [
       "(array([ 483.,  870.,  865.,  664., 2242.,  629.,  755.,  735.,  677.,\n",
       "         603.]),\n",
       " array([ 4.555 ,  6.2345,  7.914 ,  9.5935, 11.273 , 12.9525, 14.632 ,\n",
       "        16.3115, 17.991 , 19.6705, 21.35  ]),\n",
       " <a list of 10 Patch objects>)"
      ]
     },
     "execution_count": 51,
     "metadata": {},
     "output_type": "execute_result"
    },
    {
     "data": {
      "image/png": "[encoded data removed]",
      "text/plain": [
       "<Figure size 432x288 with 1 Axes>"
      ]
     },
     "metadata": {
      "needs_background": "light"
     },
     "output_type": "display_data"
    }
   ],
   "source": [
    "item_weight_mean = train.Item_Weight.fillna(np.mean(train.Item_Weight))\n",
    "item_weight_median = train.Item_Weight.fillna(np.median(item_weight))\n",
    "plt.hist(item_weight_median)\n"
   ]
  },
  {
   "cell_type": "code",
   "execution_count": 56,
   "metadata": {},
   "outputs": [
    {
     "name": "stderr",
     "output_type": "stream",
     "text": [
      "/Users/raihanahmed/anaconda3/lib/python3.7/site-packages/scipy/stats/stats.py:1713: FutureWarning: Using a non-tuple sequence for multidimensional indexing is deprecated; use `arr[tuple(seq)]` instead of `arr[seq]`. In the future this will be interpreted as an array index, `arr[np.array(seq)]`, which will result either in an error or a different result.\n",
      "  return np.add.reduce(sorted[indexer] * weights, axis=axis) / sumval\n"
     ]
    },
    {
     "data": {
      "text/plain": [
       "<matplotlib.axes._subplots.AxesSubplot at 0x1a27820b38>"
      ]
     },
     "execution_count": 56,
     "metadata": {},
     "output_type": "execute_result"
    },
    {
     "data": {
      "image/png": "[encoded data removed]",
      "text/plain": [
       "<Figure size 432x288 with 1 Axes>"
      ]
     },
     "metadata": {
      "needs_background": "light"
     },
     "output_type": "display_data"
    }
   ],
   "source": [
    "sns.kdeplot(item_weight_mean,shade=True)"
   ]
  },
  {
   "cell_type": "code",
   "execution_count": 7,
   "metadata": {
    "scrolled": true
   },
   "outputs": [
    {
     "data": {
      "text/plain": [
       "(array([2403., 2730., 1495.,  931.,  561.,  265.,   57.,   35.,   29.,\n",
       "          17.]),\n",
       " array([0.0035747 , 0.03605632, 0.06853795, 0.10101957, 0.1335012 ,\n",
       "        0.16598282, 0.19846445, 0.23094607, 0.2634277 , 0.29590932,\n",
       "        0.32839095]),\n",
       " <a list of 10 Patch objects>)"
      ]
     },
     "execution_count": 7,
     "metadata": {},
     "output_type": "execute_result"
    },
    {
     "data": {
      "image/png": "[encoded data removed]",
      "text/plain": [
       "<Figure size 432x288 with 1 Axes>"
      ]
     },
     "metadata": {},
     "output_type": "display_data"
    }
   ],
   "source": [
    "#plt.boxplot(train[\"Item_Visibility\"])\n",
    "train.Item_Visibility.describe()\n",
    "Item_Visibility = [np.mean(train['Item_Visibility']) if x==0.00 else x for x in train['Item_Visibility']]\n",
    "Item_Visibility\n",
    "plt.hist(Item_Visibility)"
   ]
  },
  {
   "cell_type": "code",
   "execution_count": 17,
   "metadata": {},
   "outputs": [
    {
     "data": {
      "text/plain": [
       "(array([3.280e+03, 2.448e+03, 1.527e+03, 7.290e+02, 3.590e+02, 1.240e+02,\n",
       "        3.600e+01, 1.600e+01, 2.000e+00, 2.000e+00]),\n",
       " array([   33.29   ,  1338.65748,  2644.02496,  3949.39244,  5254.75992,\n",
       "         6560.1274 ,  7865.49488,  9170.86236, 10476.22984, 11781.59732,\n",
       "        13086.9648 ]),\n",
       " <a list of 10 Patch objects>)"
      ]
     },
     "execution_count": 17,
     "metadata": {},
     "output_type": "execute_result"
    },
    {
     "data": {
      "image/png": "[encoded data removed]",
      "text/plain": [
       "<Figure size 432x288 with 1 Axes>"
      ]
     },
     "metadata": {},
     "output_type": "display_data"
    }
   ],
   "source": [
    "plt.hist(train[\"Item_Outlet_Sales\"])"
   ]
  },
  {
   "cell_type": "code",
   "execution_count": 5,
   "metadata": {},
   "outputs": [],
   "source": [
    "X = train.drop([\"Item_Identifier\",\"Outlet_Identifier\",\"Item_Outlet_Sales\"],axis=1)\n",
    "X[\"Outlet_Size\"]= X.Outlet_Size.fillna(\"Unknown\")\n",
    "#X.head()\n",
    "X = pd.get_dummies(X,columns=['Item_Fat_Content','Item_Type','Item_Fat_Content','Outlet_Size','Outlet_Location_Type','Outlet_Type'],\n",
    "               drop_first=True)\n",
    "\n",
    "y = train[\"Item_Outlet_Sales\"]\n"
   ]
  },
  {
   "cell_type": "code",
   "execution_count": 6,
   "metadata": {},
   "outputs": [],
   "source": [
    "X_mean = X\n",
    "X_mean[\"Item_Weight\"] = X_mean.Item_Weight.fillna(np.mean(X_mean[\"Item_Weight\"]))\n",
    "X_train, X_test, y_train, y_test = train_test_split(X_mean,y,test_size = 0.3,random_state = 123)\n"
   ]
  },
  {
   "cell_type": "code",
   "execution_count": 7,
   "metadata": {},
   "outputs": [],
   "source": [
    "scaler_train = StandardScaler()\n",
    "scaler_test = StandardScaler()\n",
    "\n",
    "scaler_train.fit(X_train)\n",
    "X_train_scaled = scaler_train.transform(X_train)\n",
    "\n",
    "scaler_test.fit(X_test)\n",
    "X_test_scaled = scaler_test.transform(X_test)\n",
    "\n",
    "# X_mean_scaler = scaler.transform(X_mean)\n",
    "# X_mean_scaler = pd.DataFrame(X_mean_scaler,index=X_mean.index,columns=X_mean.columns)\n"
   ]
  },
  {
   "cell_type": "markdown",
   "metadata": {},
   "source": [
    "# Linear Regression"
   ]
  },
  {
   "cell_type": "code",
   "execution_count": 51,
   "metadata": {
    "scrolled": true
   },
   "outputs": [
    {
     "data": {
      "text/html": [
       "<table class=\"simpletable\">\n",
       "<caption>OLS Regression Results</caption>\n",
       "<tr>\n",
       "  <th>Dep. Variable:</th>    <td>Item_Outlet_Sales</td> <th>  R-squared:         </th> <td>   0.834</td> \n",
       "</tr>\n",
       "<tr>\n",
       "  <th>Model:</th>                   <td>OLS</td>        <th>  Adj. R-squared:    </th> <td>   0.833</td> \n",
       "</tr>\n",
       "<tr>\n",
       "  <th>Method:</th>             <td>Least Squares</td>   <th>  F-statistic:       </th> <td>   959.1</td> \n",
       "</tr>\n",
       "<tr>\n",
       "  <th>Date:</th>             <td>Thu, 17 Jan 2019</td>  <th>  Prob (F-statistic):</th>  <td>  0.00</td>  \n",
       "</tr>\n",
       "<tr>\n",
       "  <th>Time:</th>                 <td>08:24:36</td>      <th>  Log-Likelihood:    </th> <td> -50373.</td> \n",
       "</tr>\n",
       "<tr>\n",
       "  <th>No. Observations:</th>      <td>  5966</td>       <th>  AIC:               </th> <td>1.008e+05</td>\n",
       "</tr>\n",
       "<tr>\n",
       "  <th>Df Residuals:</th>          <td>  5935</td>       <th>  BIC:               </th> <td>1.010e+05</td>\n",
       "</tr>\n",
       "<tr>\n",
       "  <th>Df Model:</th>              <td>    31</td>       <th>                     </th>     <td> </td>    \n",
       "</tr>\n",
       "<tr>\n",
       "  <th>Covariance Type:</th>      <td>nonrobust</td>     <th>                     </th>     <td> </td>    \n",
       "</tr>\n",
       "</table>\n",
       "<table class=\"simpletable\">\n",
       "<tr>\n",
       "                 <td></td>                    <th>coef</th>     <th>std err</th>      <th>t</th>      <th>P>|t|</th>  <th>[0.025</th>    <th>0.975]</th>  \n",
       "</tr>\n",
       "<tr>\n",
       "  <th>Item_Weight</th>                     <td>   -1.8782</td> <td>    3.477</td> <td>   -0.540</td> <td> 0.589</td> <td>   -8.694</td> <td>    4.937</td>\n",
       "</tr>\n",
       "<tr>\n",
       "  <th>Item_Visibility</th>                 <td> -404.4374</td> <td>  296.703</td> <td>   -1.363</td> <td> 0.173</td> <td> -986.083</td> <td>  177.208</td>\n",
       "</tr>\n",
       "<tr>\n",
       "  <th>Item_MRP</th>                        <td>   15.4235</td> <td>    0.236</td> <td>   65.343</td> <td> 0.000</td> <td>   14.961</td> <td>   15.886</td>\n",
       "</tr>\n",
       "<tr>\n",
       "  <th>Outlet_Establishment_Year</th>       <td>   -0.9094</td> <td>    0.097</td> <td>   -9.375</td> <td> 0.000</td> <td>   -1.100</td> <td>   -0.719</td>\n",
       "</tr>\n",
       "<tr>\n",
       "  <th>Item_Fat_Content_Low Fat</th>        <td>   10.7124</td> <td>   39.300</td> <td>    0.273</td> <td> 0.785</td> <td>  -66.330</td> <td>   87.755</td>\n",
       "</tr>\n",
       "<tr>\n",
       "  <th>Item_Fat_Content_Regular</th>        <td>   37.3555</td> <td>   40.841</td> <td>    0.915</td> <td> 0.360</td> <td>  -42.707</td> <td>  117.418</td>\n",
       "</tr>\n",
       "<tr>\n",
       "  <th>Item_Fat_Content_low fat</th>        <td>   34.2839</td> <td>   77.161</td> <td>    0.444</td> <td> 0.657</td> <td> -116.980</td> <td>  185.547</td>\n",
       "</tr>\n",
       "<tr>\n",
       "  <th>Item_Fat_Content_reg</th>            <td>  -46.4762</td> <td>   74.791</td> <td>   -0.621</td> <td> 0.534</td> <td> -193.094</td> <td>  100.142</td>\n",
       "</tr>\n",
       "<tr>\n",
       "  <th>Item_Type_Breads</th>                <td>  -44.0321</td> <td>   98.067</td> <td>   -0.449</td> <td> 0.653</td> <td> -236.280</td> <td>  148.216</td>\n",
       "</tr>\n",
       "<tr>\n",
       "  <th>Item_Type_Breakfast</th>             <td>   11.7273</td> <td>  138.299</td> <td>    0.085</td> <td> 0.932</td> <td> -259.389</td> <td>  282.844</td>\n",
       "</tr>\n",
       "<tr>\n",
       "  <th>Item_Type_Canned</th>                <td>   -6.2394</td> <td>   75.324</td> <td>   -0.083</td> <td> 0.934</td> <td> -153.902</td> <td>  141.423</td>\n",
       "</tr>\n",
       "<tr>\n",
       "  <th>Item_Type_Dairy</th>                 <td>  -50.1780</td> <td>   73.422</td> <td>   -0.683</td> <td> 0.494</td> <td> -194.112</td> <td>   93.756</td>\n",
       "</tr>\n",
       "<tr>\n",
       "  <th>Item_Type_Frozen Foods</th>          <td>  -82.1427</td> <td>   70.340</td> <td>   -1.168</td> <td> 0.243</td> <td> -220.035</td> <td>   55.750</td>\n",
       "</tr>\n",
       "<tr>\n",
       "  <th>Item_Type_Fruits and Vegetables</th> <td>   10.2976</td> <td>   65.395</td> <td>    0.157</td> <td> 0.875</td> <td> -117.901</td> <td>  138.496</td>\n",
       "</tr>\n",
       "<tr>\n",
       "  <th>Item_Type_Hard Drinks</th>           <td>  -91.2303</td> <td>  110.242</td> <td>   -0.828</td> <td> 0.408</td> <td> -307.344</td> <td>  124.883</td>\n",
       "</tr>\n",
       "<tr>\n",
       "  <th>Item_Type_Health and Hygiene</th>    <td>  -52.3408</td> <td>   80.225</td> <td>   -0.652</td> <td> 0.514</td> <td> -209.611</td> <td>  104.929</td>\n",
       "</tr>\n",
       "<tr>\n",
       "  <th>Item_Type_Household</th>             <td>  -15.0636</td> <td>   71.361</td> <td>   -0.211</td> <td> 0.833</td> <td> -154.957</td> <td>  124.830</td>\n",
       "</tr>\n",
       "<tr>\n",
       "  <th>Item_Type_Meat</th>                  <td>  -24.8415</td> <td>   83.897</td> <td>   -0.296</td> <td> 0.767</td> <td> -189.310</td> <td>  139.627</td>\n",
       "</tr>\n",
       "<tr>\n",
       "  <th>Item_Type_Others</th>                <td>  -33.9673</td> <td>  113.047</td> <td>   -0.300</td> <td> 0.764</td> <td> -255.580</td> <td>  187.646</td>\n",
       "</tr>\n",
       "<tr>\n",
       "  <th>Item_Type_Seafood</th>               <td>  154.4193</td> <td>  190.365</td> <td>    0.811</td> <td> 0.417</td> <td> -218.765</td> <td>  527.603</td>\n",
       "</tr>\n",
       "<tr>\n",
       "  <th>Item_Type_Snack Foods</th>           <td>  -31.0142</td> <td>   65.867</td> <td>   -0.471</td> <td> 0.638</td> <td> -160.137</td> <td>   98.108</td>\n",
       "</tr>\n",
       "<tr>\n",
       "  <th>Item_Type_Soft Drinks</th>           <td>  -23.3876</td> <td>   83.599</td> <td>   -0.280</td> <td> 0.780</td> <td> -187.272</td> <td>  140.496</td>\n",
       "</tr>\n",
       "<tr>\n",
       "  <th>Item_Type_Starchy Foods</th>         <td>  -97.2165</td> <td>  126.314</td> <td>   -0.770</td> <td> 0.442</td> <td> -344.838</td> <td>  150.405</td>\n",
       "</tr>\n",
       "<tr>\n",
       "  <th>Item_Fat_Content_Low Fat</th>        <td>   10.7124</td> <td>   39.300</td> <td>    0.273</td> <td> 0.785</td> <td>  -66.330</td> <td>   87.755</td>\n",
       "</tr>\n",
       "<tr>\n",
       "  <th>Item_Fat_Content_Regular</th>        <td>   37.3555</td> <td>   40.841</td> <td>    0.915</td> <td> 0.360</td> <td>  -42.707</td> <td>  117.418</td>\n",
       "</tr>\n",
       "<tr>\n",
       "  <th>Item_Fat_Content_low fat</th>        <td>   34.2839</td> <td>   77.161</td> <td>    0.444</td> <td> 0.657</td> <td> -116.980</td> <td>  185.547</td>\n",
       "</tr>\n",
       "<tr>\n",
       "  <th>Item_Fat_Content_reg</th>            <td>  -46.4762</td> <td>   74.791</td> <td>   -0.621</td> <td> 0.534</td> <td> -193.094</td> <td>  100.142</td>\n",
       "</tr>\n",
       "<tr>\n",
       "  <th>Outlet_Size_Medium</th>              <td>  114.7624</td> <td>  118.309</td> <td>    0.970</td> <td> 0.332</td> <td> -117.166</td> <td>  346.690</td>\n",
       "</tr>\n",
       "<tr>\n",
       "  <th>Outlet_Size_Small</th>               <td>   67.6449</td> <td>  118.474</td> <td>    0.571</td> <td> 0.568</td> <td> -164.607</td> <td>  299.896</td>\n",
       "</tr>\n",
       "<tr>\n",
       "  <th>Outlet_Size_Unknown</th>             <td>  -48.9037</td> <td>  105.155</td> <td>   -0.465</td> <td> 0.642</td> <td> -255.045</td> <td>  157.238</td>\n",
       "</tr>\n",
       "<tr>\n",
       "  <th>Outlet_Location_Type_Tier 2</th>     <td>  139.6306</td> <td>   62.182</td> <td>    2.246</td> <td> 0.025</td> <td>   17.731</td> <td>  261.530</td>\n",
       "</tr>\n",
       "<tr>\n",
       "  <th>Outlet_Location_Type_Tier 3</th>     <td>   90.6229</td> <td>   99.863</td> <td>    0.907</td> <td> 0.364</td> <td> -105.146</td> <td>  286.391</td>\n",
       "</tr>\n",
       "<tr>\n",
       "  <th>Outlet_Type_Supermarket Type1</th>   <td> 1892.9208</td> <td>   75.560</td> <td>   25.052</td> <td> 0.000</td> <td> 1744.797</td> <td> 2041.045</td>\n",
       "</tr>\n",
       "<tr>\n",
       "  <th>Outlet_Type_Supermarket Type2</th>   <td> 1434.8804</td> <td>  110.709</td> <td>   12.961</td> <td> 0.000</td> <td> 1217.850</td> <td> 1651.910</td>\n",
       "</tr>\n",
       "<tr>\n",
       "  <th>Outlet_Type_Supermarket Type3</th>   <td> 3154.1866</td> <td>  111.425</td> <td>   28.308</td> <td> 0.000</td> <td> 2935.753</td> <td> 3372.621</td>\n",
       "</tr>\n",
       "</table>\n",
       "<table class=\"simpletable\">\n",
       "<tr>\n",
       "  <th>Omnibus:</th>       <td>728.621</td> <th>  Durbin-Watson:     </th> <td>   1.984</td>\n",
       "</tr>\n",
       "<tr>\n",
       "  <th>Prob(Omnibus):</th> <td> 0.000</td>  <th>  Jarque-Bera (JB):  </th> <td>1923.191</td>\n",
       "</tr>\n",
       "<tr>\n",
       "  <th>Skew:</th>          <td> 0.683</td>  <th>  Prob(JB):          </th> <td>    0.00</td>\n",
       "</tr>\n",
       "<tr>\n",
       "  <th>Kurtosis:</th>      <td> 5.423</td>  <th>  Cond. No.          </th> <td>1.05e+16</td>\n",
       "</tr>\n",
       "</table><br/><br/>Warnings:<br/>[1] Standard Errors assume that the covariance matrix of the errors is correctly specified.<br/>[2] The smallest eigenvalue is 2.16e-22. This might indicate that there are<br/>strong multicollinearity problems or that the design matrix is singular."
      ],
      "text/plain": [
       "<class 'statsmodels.iolib.summary.Summary'>\n",
       "\"\"\"\n",
       "                            OLS Regression Results                            \n",
       "==============================================================================\n",
       "Dep. Variable:      Item_Outlet_Sales   R-squared:                       0.834\n",
       "Model:                            OLS   Adj. R-squared:                  0.833\n",
       "Method:                 Least Squares   F-statistic:                     959.1\n",
       "Date:                Thu, 17 Jan 2019   Prob (F-statistic):               0.00\n",
       "Time:                        08:24:36   Log-Likelihood:                -50373.\n",
       "No. Observations:                5966   AIC:                         1.008e+05\n",
       "Df Residuals:                    5935   BIC:                         1.010e+05\n",
       "Df Model:                          31                                         \n",
       "Covariance Type:            nonrobust                                         \n",
       "===================================================================================================\n",
       "                                      coef    std err          t      P>|t|      [0.025      0.975]\n",
       "---------------------------------------------------------------------------------------------------\n",
       "Item_Weight                        -1.8782      3.477     -0.540      0.589      -8.694       4.937\n",
       "Item_Visibility                  -404.4374    296.703     -1.363      0.173    -986.083     177.208\n",
       "Item_MRP                           15.4235      0.236     65.343      0.000      14.961      15.886\n",
       "Outlet_Establishment_Year          -0.9094      0.097     -9.375      0.000      -1.100      -0.719\n",
       "Item_Fat_Content_Low Fat           10.7124     39.300      0.273      0.785     -66.330      87.755\n",
       "Item_Fat_Content_Regular           37.3555     40.841      0.915      0.360     -42.707     117.418\n",
       "Item_Fat_Content_low fat           34.2839     77.161      0.444      0.657    -116.980     185.547\n",
       "Item_Fat_Content_reg              -46.4762     74.791     -0.621      0.534    -193.094     100.142\n",
       "Item_Type_Breads                  -44.0321     98.067     -0.449      0.653    -236.280     148.216\n",
       "Item_Type_Breakfast                11.7273    138.299      0.085      0.932    -259.389     282.844\n",
       "Item_Type_Canned                   -6.2394     75.324     -0.083      0.934    -153.902     141.423\n",
       "Item_Type_Dairy                   -50.1780     73.422     -0.683      0.494    -194.112      93.756\n",
       "Item_Type_Frozen Foods            -82.1427     70.340     -1.168      0.243    -220.035      55.750\n",
       "Item_Type_Fruits and Vegetables    10.2976     65.395      0.157      0.875    -117.901     138.496\n",
       "Item_Type_Hard Drinks             -91.2303    110.242     -0.828      0.408    -307.344     124.883\n",
       "Item_Type_Health and Hygiene      -52.3408     80.225     -0.652      0.514    -209.611     104.929\n",
       "Item_Type_Household               -15.0636     71.361     -0.211      0.833    -154.957     124.830\n",
       "Item_Type_Meat                    -24.8415     83.897     -0.296      0.767    -189.310     139.627\n",
       "Item_Type_Others                  -33.9673    113.047     -0.300      0.764    -255.580     187.646\n",
       "Item_Type_Seafood                 154.4193    190.365      0.811      0.417    -218.765     527.603\n",
       "Item_Type_Snack Foods             -31.0142     65.867     -0.471      0.638    -160.137      98.108\n",
       "Item_Type_Soft Drinks             -23.3876     83.599     -0.280      0.780    -187.272     140.496\n",
       "Item_Type_Starchy Foods           -97.2165    126.314     -0.770      0.442    -344.838     150.405\n",
       "Item_Fat_Content_Low Fat           10.7124     39.300      0.273      0.785     -66.330      87.755\n",
       "Item_Fat_Content_Regular           37.3555     40.841      0.915      0.360     -42.707     117.418\n",
       "Item_Fat_Content_low fat           34.2839     77.161      0.444      0.657    -116.980     185.547\n",
       "Item_Fat_Content_reg              -46.4762     74.791     -0.621      0.534    -193.094     100.142\n",
       "Outlet_Size_Medium                114.7624    118.309      0.970      0.332    -117.166     346.690\n",
       "Outlet_Size_Small                  67.6449    118.474      0.571      0.568    -164.607     299.896\n",
       "Outlet_Size_Unknown               -48.9037    105.155     -0.465      0.642    -255.045     157.238\n",
       "Outlet_Location_Type_Tier 2       139.6306     62.182      2.246      0.025      17.731     261.530\n",
       "Outlet_Location_Type_Tier 3        90.6229     99.863      0.907      0.364    -105.146     286.391\n",
       "Outlet_Type_Supermarket Type1    1892.9208     75.560     25.052      0.000    1744.797    2041.045\n",
       "Outlet_Type_Supermarket Type2    1434.8804    110.709     12.961      0.000    1217.850    1651.910\n",
       "Outlet_Type_Supermarket Type3    3154.1866    111.425     28.308      0.000    2935.753    3372.621\n",
       "==============================================================================\n",
       "Omnibus:                      728.621   Durbin-Watson:                   1.984\n",
       "Prob(Omnibus):                  0.000   Jarque-Bera (JB):             1923.191\n",
       "Skew:                           0.683   Prob(JB):                         0.00\n",
       "Kurtosis:                       5.423   Cond. No.                     1.05e+16\n",
       "==============================================================================\n",
       "\n",
       "Warnings:\n",
       "[1] Standard Errors assume that the covariance matrix of the errors is correctly specified.\n",
       "[2] The smallest eigenvalue is 2.16e-22. This might indicate that there are\n",
       "strong multicollinearity problems or that the design matrix is singular.\n",
       "\"\"\""
      ]
     },
     "execution_count": 51,
     "metadata": {},
     "output_type": "execute_result"
    }
   ],
   "source": [
    "import statsmodels.api as sm\n",
    "model_ols = sm.OLS(y_train,X_train_scaled)\n",
    "results = model.fit()\n",
    "results.summary()"
   ]
  },
  {
   "cell_type": "code",
   "execution_count": 52,
   "metadata": {},
   "outputs": [],
   "source": [
    "y_pred_ols = results.predict(X_test_scaled)"
   ]
  },
  {
   "cell_type": "code",
   "execution_count": 53,
   "metadata": {},
   "outputs": [
    {
     "data": {
      "text/plain": [
       "1137.88048597201"
      ]
     },
     "execution_count": 53,
     "metadata": {},
     "output_type": "execute_result"
    }
   ],
   "source": [
    "\n",
    "rmse_ols = np.sqrt(mean_squared_error(y_test,y_pred_lm))\n",
    "rmse_ols"
   ]
  },
  {
   "cell_type": "code",
   "execution_count": 23,
   "metadata": {
    "scrolled": true
   },
   "outputs": [
    {
     "data": {
      "text/plain": [
       "1140.1824698334744"
      ]
     },
     "execution_count": 23,
     "metadata": {},
     "output_type": "execute_result"
    }
   ],
   "source": [
    "\n",
    "model_lm = LinearRegression()\n",
    "model_lm.fit(X_train_scaled,y_train)\n",
    "y_pred_lm = model_lm.predict(X_test_scaled)\n",
    "rmse_lm = np.sqrt(mean_squared_error(y_test,y_pred_lm))\n",
    "rmse_lm"
   ]
  },
  {
   "cell_type": "markdown",
   "metadata": {},
   "source": [
    "## Ridge Regression "
   ]
  },
  {
   "cell_type": "code",
   "execution_count": 56,
   "metadata": {},
   "outputs": [
    {
     "name": "stdout",
     "output_type": "stream",
     "text": [
      "{'alpha': 10}\n",
      "-1278964.9891265214\n",
      "1140.4176555346191\n"
     ]
    }
   ],
   "source": [
    "\n",
    "\n",
    "alpha = [1e-15, 1e-10, 1e-8, 1e-4, 1e-3,1e-2, 1, 5, 10, 20]\n",
    "\n",
    "ridge = Ridge()\n",
    "\n",
    "parameters = {'alpha': [1e-15, 1e-10, 1e-8, 1e-4, 1e-3,1e-2, 1, 5, 10, 20]}\n",
    "\n",
    "ridge_regressor = GridSearchCV(ridge, parameters,scoring='neg_mean_squared_error', cv=5)\n",
    "\n",
    "ridge_regressor.fit(X_train_scaled, y_train)\n",
    "print(ridge_regressor.best_params_)\n",
    "print(ridge_regressor.best_score_)\n",
    "\n",
    "y_pred_ridge = ridge_regressor.predict(X_test_scaled)\n",
    "rmse_ridge = np.sqrt(mean_squared_error(y_test,y_pred_ridge))\n",
    "print(rmse_ridge)\n"
   ]
  },
  {
   "cell_type": "markdown",
   "metadata": {},
   "source": [
    "## Lasso Regression"
   ]
  },
  {
   "cell_type": "code",
   "execution_count": 35,
   "metadata": {},
   "outputs": [],
   "source": [
    "from sklearn.linear_model import LassoCV\n",
    "from sklearn.metrics import r2_score"
   ]
  },
  {
   "cell_type": "code",
   "execution_count": 48,
   "metadata": {},
   "outputs": [
    {
     "data": {
      "text/plain": [
       "LassoCV(alphas=None, copy_X=True, cv=5, eps=0.001, fit_intercept=True,\n",
       "    max_iter=1000, n_alphas=100, n_jobs=1, normalize=True, positive=False,\n",
       "    precompute='auto', random_state=None, selection='cyclic', tol=0.0001,\n",
       "    verbose=False)"
      ]
     },
     "execution_count": 48,
     "metadata": {},
     "output_type": "execute_result"
    }
   ],
   "source": [
    "lassocv = LassoCV(cv=5, normalize=True)\n",
    "lassocv.fit(X_train,y_train)"
   ]
  },
  {
   "cell_type": "code",
   "execution_count": 49,
   "metadata": {},
   "outputs": [
    {
     "data": {
      "text/plain": [
       "1139.5002136944713"
      ]
     },
     "execution_count": 49,
     "metadata": {},
     "output_type": "execute_result"
    }
   ],
   "source": [
    "y_pred_lassocv = lassocv.predict(X_test)\n",
    "rmse_lassocv = np.sqrt(mean_squared_error(y_test,y_pred_lassocv))\n",
    "rmse_lassocv"
   ]
  },
  {
   "cell_type": "code",
   "execution_count": 37,
   "metadata": {},
   "outputs": [
    {
     "data": {
      "text/plain": [
       "0.5682726792224002"
      ]
     },
     "execution_count": 37,
     "metadata": {},
     "output_type": "execute_result"
    }
   ],
   "source": [
    "r2_score(y_test,y_pred_lasso)"
   ]
  },
  {
   "cell_type": "code",
   "execution_count": 34,
   "metadata": {},
   "outputs": [
    {
     "name": "stderr",
     "output_type": "stream",
     "text": [
      "/anaconda3/lib/python3.6/site-packages/sklearn/linear_model/coordinate_descent.py:491: ConvergenceWarning: Objective did not converge. You might want to increase the number of iterations. Fitting data with very small alpha may cause precision problems.\n",
      "  ConvergenceWarning)\n",
      "/anaconda3/lib/python3.6/site-packages/sklearn/linear_model/coordinate_descent.py:491: ConvergenceWarning: Objective did not converge. You might want to increase the number of iterations. Fitting data with very small alpha may cause precision problems.\n",
      "  ConvergenceWarning)\n",
      "/anaconda3/lib/python3.6/site-packages/sklearn/linear_model/coordinate_descent.py:491: ConvergenceWarning: Objective did not converge. You might want to increase the number of iterations. Fitting data with very small alpha may cause precision problems.\n",
      "  ConvergenceWarning)\n",
      "/anaconda3/lib/python3.6/site-packages/sklearn/linear_model/coordinate_descent.py:491: ConvergenceWarning: Objective did not converge. You might want to increase the number of iterations. Fitting data with very small alpha may cause precision problems.\n",
      "  ConvergenceWarning)\n",
      "/anaconda3/lib/python3.6/site-packages/sklearn/linear_model/coordinate_descent.py:491: ConvergenceWarning: Objective did not converge. You might want to increase the number of iterations. Fitting data with very small alpha may cause precision problems.\n",
      "  ConvergenceWarning)\n",
      "/anaconda3/lib/python3.6/site-packages/sklearn/linear_model/coordinate_descent.py:491: ConvergenceWarning: Objective did not converge. You might want to increase the number of iterations. Fitting data with very small alpha may cause precision problems.\n",
      "  ConvergenceWarning)\n",
      "/anaconda3/lib/python3.6/site-packages/sklearn/linear_model/coordinate_descent.py:491: ConvergenceWarning: Objective did not converge. You might want to increase the number of iterations. Fitting data with very small alpha may cause precision problems.\n",
      "  ConvergenceWarning)\n",
      "/anaconda3/lib/python3.6/site-packages/sklearn/linear_model/coordinate_descent.py:491: ConvergenceWarning: Objective did not converge. You might want to increase the number of iterations. Fitting data with very small alpha may cause precision problems.\n",
      "  ConvergenceWarning)\n",
      "/anaconda3/lib/python3.6/site-packages/sklearn/linear_model/coordinate_descent.py:491: ConvergenceWarning: Objective did not converge. You might want to increase the number of iterations. Fitting data with very small alpha may cause precision problems.\n",
      "  ConvergenceWarning)\n",
      "/anaconda3/lib/python3.6/site-packages/sklearn/linear_model/coordinate_descent.py:491: ConvergenceWarning: Objective did not converge. You might want to increase the number of iterations. Fitting data with very small alpha may cause precision problems.\n",
      "  ConvergenceWarning)\n",
      "/anaconda3/lib/python3.6/site-packages/sklearn/linear_model/coordinate_descent.py:491: ConvergenceWarning: Objective did not converge. You might want to increase the number of iterations. Fitting data with very small alpha may cause precision problems.\n",
      "  ConvergenceWarning)\n",
      "/anaconda3/lib/python3.6/site-packages/sklearn/linear_model/coordinate_descent.py:491: ConvergenceWarning: Objective did not converge. You might want to increase the number of iterations. Fitting data with very small alpha may cause precision problems.\n",
      "  ConvergenceWarning)\n",
      "/anaconda3/lib/python3.6/site-packages/sklearn/linear_model/coordinate_descent.py:491: ConvergenceWarning: Objective did not converge. You might want to increase the number of iterations. Fitting data with very small alpha may cause precision problems.\n",
      "  ConvergenceWarning)\n",
      "/anaconda3/lib/python3.6/site-packages/sklearn/linear_model/coordinate_descent.py:491: ConvergenceWarning: Objective did not converge. You might want to increase the number of iterations. Fitting data with very small alpha may cause precision problems.\n",
      "  ConvergenceWarning)\n",
      "/anaconda3/lib/python3.6/site-packages/sklearn/linear_model/coordinate_descent.py:491: ConvergenceWarning: Objective did not converge. You might want to increase the number of iterations. Fitting data with very small alpha may cause precision problems.\n",
      "  ConvergenceWarning)\n",
      "/anaconda3/lib/python3.6/site-packages/sklearn/linear_model/coordinate_descent.py:491: ConvergenceWarning: Objective did not converge. You might want to increase the number of iterations. Fitting data with very small alpha may cause precision problems.\n",
      "  ConvergenceWarning)\n",
      "/anaconda3/lib/python3.6/site-packages/sklearn/linear_model/coordinate_descent.py:491: ConvergenceWarning: Objective did not converge. You might want to increase the number of iterations. Fitting data with very small alpha may cause precision problems.\n",
      "  ConvergenceWarning)\n",
      "/anaconda3/lib/python3.6/site-packages/sklearn/linear_model/coordinate_descent.py:491: ConvergenceWarning: Objective did not converge. You might want to increase the number of iterations. Fitting data with very small alpha may cause precision problems.\n",
      "  ConvergenceWarning)\n",
      "/anaconda3/lib/python3.6/site-packages/sklearn/linear_model/coordinate_descent.py:491: ConvergenceWarning: Objective did not converge. You might want to increase the number of iterations. Fitting data with very small alpha may cause precision problems.\n",
      "  ConvergenceWarning)\n",
      "/anaconda3/lib/python3.6/site-packages/sklearn/linear_model/coordinate_descent.py:491: ConvergenceWarning: Objective did not converge. You might want to increase the number of iterations. Fitting data with very small alpha may cause precision problems.\n",
      "  ConvergenceWarning)\n",
      "/anaconda3/lib/python3.6/site-packages/sklearn/linear_model/coordinate_descent.py:491: ConvergenceWarning: Objective did not converge. You might want to increase the number of iterations. Fitting data with very small alpha may cause precision problems.\n",
      "  ConvergenceWarning)\n",
      "/anaconda3/lib/python3.6/site-packages/sklearn/linear_model/coordinate_descent.py:491: ConvergenceWarning: Objective did not converge. You might want to increase the number of iterations. Fitting data with very small alpha may cause precision problems.\n",
      "  ConvergenceWarning)\n",
      "/anaconda3/lib/python3.6/site-packages/sklearn/linear_model/coordinate_descent.py:491: ConvergenceWarning: Objective did not converge. You might want to increase the number of iterations. Fitting data with very small alpha may cause precision problems.\n",
      "  ConvergenceWarning)\n",
      "/anaconda3/lib/python3.6/site-packages/sklearn/linear_model/coordinate_descent.py:491: ConvergenceWarning: Objective did not converge. You might want to increase the number of iterations. Fitting data with very small alpha may cause precision problems.\n",
      "  ConvergenceWarning)\n",
      "/anaconda3/lib/python3.6/site-packages/sklearn/linear_model/coordinate_descent.py:491: ConvergenceWarning: Objective did not converge. You might want to increase the number of iterations. Fitting data with very small alpha may cause precision problems.\n",
      "  ConvergenceWarning)\n",
      "/anaconda3/lib/python3.6/site-packages/sklearn/linear_model/coordinate_descent.py:491: ConvergenceWarning: Objective did not converge. You might want to increase the number of iterations. Fitting data with very small alpha may cause precision problems.\n",
      "  ConvergenceWarning)\n",
      "/anaconda3/lib/python3.6/site-packages/sklearn/linear_model/coordinate_descent.py:491: ConvergenceWarning: Objective did not converge. You might want to increase the number of iterations. Fitting data with very small alpha may cause precision problems.\n",
      "  ConvergenceWarning)\n",
      "/anaconda3/lib/python3.6/site-packages/sklearn/linear_model/coordinate_descent.py:491: ConvergenceWarning: Objective did not converge. You might want to increase the number of iterations. Fitting data with very small alpha may cause precision problems.\n",
      "  ConvergenceWarning)\n",
      "/anaconda3/lib/python3.6/site-packages/sklearn/linear_model/coordinate_descent.py:491: ConvergenceWarning: Objective did not converge. You might want to increase the number of iterations. Fitting data with very small alpha may cause precision problems.\n",
      "  ConvergenceWarning)\n",
      "/anaconda3/lib/python3.6/site-packages/sklearn/linear_model/coordinate_descent.py:491: ConvergenceWarning: Objective did not converge. You might want to increase the number of iterations. Fitting data with very small alpha may cause precision problems.\n",
      "  ConvergenceWarning)\n"
     ]
    },
    {
     "name": "stdout",
     "output_type": "stream",
     "text": [
      "{'alpha': 10}\n",
      "-1275109.892752032\n",
      "1141.9556901945741\n"
     ]
    }
   ],
   "source": [
    "\n",
    "\n",
    "lasso = Lasso()\n",
    "\n",
    "parameters = {'alpha': [1e-15, 1e-10, 1e-8, 1e-4, 1e-3,1e-2, 1, 5, 10, 20]}\n",
    "\n",
    "lasso_regressor = GridSearchCV(lasso, parameters, scoring='neg_mean_squared_error', cv = 5)\n",
    "\n",
    "lasso_regressor.fit(X_train_scaled, y_train)\n",
    "\n",
    "print(lasso_regressor.best_params_)\n",
    "print(lasso_regressor.best_score_)\n",
    "\n",
    "y_pred_lasso = lasso_regressor.predict(X_test_scaled)\n",
    "rmse_lasso = np.sqrt(mean_squared_error(y_test,y_pred_lasso))\n",
    "print(rmse_lasso)\n"
   ]
  },
  {
   "cell_type": "markdown",
   "metadata": {},
   "source": [
    "# Support Vector Regression"
   ]
  },
  {
   "cell_type": "code",
   "execution_count": 18,
   "metadata": {},
   "outputs": [
    {
     "name": "stdout",
     "output_type": "stream",
     "text": [
      "linear 0.42284521784886353\n",
      "sigmoid -0.05288375098388931\n"
     ]
    }
   ],
   "source": [
    "\n",
    "for k in ['linear','sigmoid']:\n",
    "    svr = SVR(kernel=k)\n",
    "    svr.fit(X_train, y_train)\n",
    "    confidence = svr.score(X_test, y_test)\n",
    "    print(k,confidence)\n"
   ]
  },
  {
   "cell_type": "code",
   "execution_count": 20,
   "metadata": {},
   "outputs": [
    {
     "data": {
      "text/plain": [
       "1783.3422475147295"
      ]
     },
     "execution_count": 20,
     "metadata": {},
     "output_type": "execute_result"
    }
   ],
   "source": [
    "y_pred_svr = SVR(kernel='linear')\n",
    "\n",
    "svr.fit(X_train, y_train)\n",
    "y_pred_svr = svr.predict(X_test)\n",
    "\n",
    "rmse_svr = np.sqrt(mean_squared_error(y_test,y_pred_svr))\n",
    "rmse_svr\n"
   ]
  },
  {
   "cell_type": "markdown",
   "metadata": {},
   "source": [
    "# Random Forest "
   ]
  },
  {
   "cell_type": "code",
   "execution_count": 16,
   "metadata": {},
   "outputs": [],
   "source": [
    "\n",
    "rf = RandomForestRegressor(n_estimators = 1000, random_state = 123)\n",
    "rf.fit(X_train_scaled,y_train)\n",
    "y_pred_rf = rf.predict(X_test_scaled)\n",
    "\n"
   ]
  },
  {
   "cell_type": "code",
   "execution_count": 17,
   "metadata": {},
   "outputs": [
    {
     "data": {
      "text/plain": [
       "1139.0561543673443"
      ]
     },
     "execution_count": 17,
     "metadata": {},
     "output_type": "execute_result"
    }
   ],
   "source": [
    "rmse_rf = np.sqrt(mean_squared_error(y_test,y_pred_rf))\n",
    "rmse_rf"
   ]
  },
  {
   "cell_type": "code",
   "execution_count": null,
   "metadata": {},
   "outputs": [],
   "source": [
    "# elastic net "
   ]
  }
 ],
 "metadata": {
  "kernelspec": {
   "display_name": "Python 3",
   "language": "python",
   "name": "python3"
  },
  "language_info": {
   "codemirror_mode": {
    "name": "ipython",
    "version": 3
   },
   "file_extension": ".py",
   "mimetype": "text/x-python",
   "name": "python",
   "nbconvert_exporter": "python",
   "pygments_lexer": "ipython3",
   "version": "3.6.5"
  }
 },
 "nbformat": 4,
 "nbformat_minor": 2
}
