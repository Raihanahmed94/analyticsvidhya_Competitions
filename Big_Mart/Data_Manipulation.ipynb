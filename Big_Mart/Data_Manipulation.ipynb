{
 "cells": [
  {
   "cell_type": "code",
   "execution_count": 1,
   "metadata": {},
   "outputs": [],
   "source": [
    "import numpy as np\n",
    "import pandas as pd \n",
    "import matplotlib.pyplot as plt \n",
    "%matplotlib inline\n",
    "import seaborn as sns\n",
    "import xgboost as xgb\n",
    "from sklearn.preprocessing import StandardScaler\n",
    "from sklearn.model_selection import train_test_split\n",
    "from sklearn.metrics import mean_squared_error \n",
    "from sklearn.linear_model import LinearRegression\n",
    "from sklearn.model_selection import GridSearchCV\n",
    "from sklearn.linear_model import Ridge\n",
    "from sklearn.linear_model import Lasso\n",
    "from sklearn.linear_model import ElasticNet\n",
    "from sklearn.svm import SVR\n",
    "from sklearn.ensemble import RandomForestRegressor\n",
    "from sklearn.model_selection import cross_val_score,KFold"
   ]
  },
  {
   "cell_type": "code",
   "execution_count": 2,
   "metadata": {},
   "outputs": [
    {
     "data": {
      "text/html": [
       "<div>\n",
       "<style scoped>\n",
       "    .dataframe tbody tr th:only-of-type {\n",
       "        vertical-align: middle;\n",
       "    }\n",
       "\n",
       "    .dataframe tbody tr th {\n",
       "        vertical-align: top;\n",
       "    }\n",
       "\n",
       "    .dataframe thead th {\n",
       "        text-align: right;\n",
       "    }\n",
       "</style>\n",
       "<table border=\"1\" class=\"dataframe\">\n",
       "  <thead>\n",
       "    <tr style=\"text-align: right;\">\n",
       "      <th></th>\n",
       "      <th>Item_Identifier</th>\n",
       "      <th>Item_Weight</th>\n",
       "      <th>Item_Fat_Content</th>\n",
       "      <th>Item_Visibility</th>\n",
       "      <th>Item_Type</th>\n",
       "      <th>Item_MRP</th>\n",
       "      <th>Outlet_Identifier</th>\n",
       "      <th>Outlet_Establishment_Year</th>\n",
       "      <th>Outlet_Size</th>\n",
       "      <th>Outlet_Location_Type</th>\n",
       "      <th>Outlet_Type</th>\n",
       "      <th>Item_Outlet_Sales</th>\n",
       "    </tr>\n",
       "  </thead>\n",
       "  <tbody>\n",
       "    <tr>\n",
       "      <th>0</th>\n",
       "      <td>FDA15</td>\n",
       "      <td>9.30</td>\n",
       "      <td>Low Fat</td>\n",
       "      <td>0.016047</td>\n",
       "      <td>Dairy</td>\n",
       "      <td>249.8092</td>\n",
       "      <td>OUT049</td>\n",
       "      <td>1999</td>\n",
       "      <td>Medium</td>\n",
       "      <td>Tier 1</td>\n",
       "      <td>Supermarket Type1</td>\n",
       "      <td>3735.1380</td>\n",
       "    </tr>\n",
       "    <tr>\n",
       "      <th>1</th>\n",
       "      <td>DRC01</td>\n",
       "      <td>5.92</td>\n",
       "      <td>Regular</td>\n",
       "      <td>0.019278</td>\n",
       "      <td>Soft Drinks</td>\n",
       "      <td>48.2692</td>\n",
       "      <td>OUT018</td>\n",
       "      <td>2009</td>\n",
       "      <td>Medium</td>\n",
       "      <td>Tier 3</td>\n",
       "      <td>Supermarket Type2</td>\n",
       "      <td>443.4228</td>\n",
       "    </tr>\n",
       "    <tr>\n",
       "      <th>2</th>\n",
       "      <td>FDN15</td>\n",
       "      <td>17.50</td>\n",
       "      <td>Low Fat</td>\n",
       "      <td>0.016760</td>\n",
       "      <td>Meat</td>\n",
       "      <td>141.6180</td>\n",
       "      <td>OUT049</td>\n",
       "      <td>1999</td>\n",
       "      <td>Medium</td>\n",
       "      <td>Tier 1</td>\n",
       "      <td>Supermarket Type1</td>\n",
       "      <td>2097.2700</td>\n",
       "    </tr>\n",
       "    <tr>\n",
       "      <th>3</th>\n",
       "      <td>FDX07</td>\n",
       "      <td>19.20</td>\n",
       "      <td>Regular</td>\n",
       "      <td>0.000000</td>\n",
       "      <td>Fruits and Vegetables</td>\n",
       "      <td>182.0950</td>\n",
       "      <td>OUT010</td>\n",
       "      <td>1998</td>\n",
       "      <td>NaN</td>\n",
       "      <td>Tier 3</td>\n",
       "      <td>Grocery Store</td>\n",
       "      <td>732.3800</td>\n",
       "    </tr>\n",
       "    <tr>\n",
       "      <th>4</th>\n",
       "      <td>NCD19</td>\n",
       "      <td>8.93</td>\n",
       "      <td>Low Fat</td>\n",
       "      <td>0.000000</td>\n",
       "      <td>Household</td>\n",
       "      <td>53.8614</td>\n",
       "      <td>OUT013</td>\n",
       "      <td>1987</td>\n",
       "      <td>High</td>\n",
       "      <td>Tier 3</td>\n",
       "      <td>Supermarket Type1</td>\n",
       "      <td>994.7052</td>\n",
       "    </tr>\n",
       "  </tbody>\n",
       "</table>\n",
       "</div>"
      ],
      "text/plain": [
       "  Item_Identifier  Item_Weight Item_Fat_Content  Item_Visibility  \\\n",
       "0           FDA15         9.30          Low Fat         0.016047   \n",
       "1           DRC01         5.92          Regular         0.019278   \n",
       "2           FDN15        17.50          Low Fat         0.016760   \n",
       "3           FDX07        19.20          Regular         0.000000   \n",
       "4           NCD19         8.93          Low Fat         0.000000   \n",
       "\n",
       "               Item_Type  Item_MRP Outlet_Identifier  \\\n",
       "0                  Dairy  249.8092            OUT049   \n",
       "1            Soft Drinks   48.2692            OUT018   \n",
       "2                   Meat  141.6180            OUT049   \n",
       "3  Fruits and Vegetables  182.0950            OUT010   \n",
       "4              Household   53.8614            OUT013   \n",
       "\n",
       "   Outlet_Establishment_Year Outlet_Size Outlet_Location_Type  \\\n",
       "0                       1999      Medium               Tier 1   \n",
       "1                       2009      Medium               Tier 3   \n",
       "2                       1999      Medium               Tier 1   \n",
       "3                       1998         NaN               Tier 3   \n",
       "4                       1987        High               Tier 3   \n",
       "\n",
       "         Outlet_Type  Item_Outlet_Sales  \n",
       "0  Supermarket Type1          3735.1380  \n",
       "1  Supermarket Type2           443.4228  \n",
       "2  Supermarket Type1          2097.2700  \n",
       "3      Grocery Store           732.3800  \n",
       "4  Supermarket Type1           994.7052  "
      ]
     },
     "execution_count": 2,
     "metadata": {},
     "output_type": "execute_result"
    }
   ],
   "source": [
    "# Import data \n",
    "train = pd.read_csv(\"train.csv\")\n",
    "test = pd.read_csv(\"test.csv\")\n",
    "train.head()"
   ]
  },
  {
   "cell_type": "code",
   "execution_count": 7,
   "metadata": {},
   "outputs": [
    {
     "name": "stdout",
     "output_type": "stream",
     "text": [
      "526\n",
      "7997\n"
     ]
    },
    {
     "data": {
      "text/plain": [
       "Outlet_Type\n",
       "Grocery Store        0.104862\n",
       "Supermarket Type1    0.060723\n",
       "Supermarket Type2    0.061014\n",
       "Supermarket Type3    0.058615\n",
       "Name: Item_Visibility, dtype: float64"
      ]
     },
     "execution_count": 7,
     "metadata": {},
     "output_type": "execute_result"
    }
   ],
   "source": [
    "item_type_visibility = train.groupby(\"Outlet_Type\").mean()[\"Item_Visibility\"]\n",
    "\n",
    "print(len(train[train.Item_Visibility==0]))\n",
    "print(len(train[train.Item_Visibility!=0]))\n",
    "item_type_visibility"
   ]
  },
  {
   "cell_type": "code",
   "execution_count": null,
   "metadata": {
    "scrolled": true
   },
   "outputs": [],
   "source": []
  },
  {
   "cell_type": "code",
   "execution_count": null,
   "metadata": {
    "scrolled": true
   },
   "outputs": [],
   "source": [
    "#sns.distplot(np.log(train.Item_Visibility),kde= False)\n",
    "item_visibility = train.Item_Visibility\n",
    "item_visibility[item_visibility==0] = np.mean(train.Item_Visibility)\n",
    "sns.distplot(item_visibility)"
   ]
  },
  {
   "cell_type": "code",
   "execution_count": null,
   "metadata": {},
   "outputs": [],
   "source": [
    "# Create seperate dataframe of item identifier and item weight \n",
    "item = train[[\"Item_Identifier\",\"Item_Weight\"]]\n",
    "item[item.Item_Weight.isnull()][\"Item_Identifier\"].nunique()\n",
    "len(item)"
   ]
  },
  {
   "cell_type": "code",
   "execution_count": null,
   "metadata": {},
   "outputs": [],
   "source": [
    "# Seperate dataframe of unique items and thier weights \n",
    "unique_weights = item.sort_values(\"Item_Identifier\").drop_duplicates().dropna()\n",
    "unique_weights.head()"
   ]
  },
  {
   "cell_type": "code",
   "execution_count": null,
   "metadata": {},
   "outputs": [],
   "source": [
    "item_non_missing = pd.merge(item,unique_weights,how='left',on = \"Item_Identifier\")"
   ]
  },
  {
   "cell_type": "code",
   "execution_count": null,
   "metadata": {},
   "outputs": [],
   "source": [
    "item_non_missing.sort_values(\"Item_Identifier\").isnull().sum()\n",
    "item_non_missing = item_non_missing[['Item_Identifier','Item_Weight_y']]\n",
    "item_non_missing.dtypes"
   ]
  },
  {
   "cell_type": "code",
   "execution_count": null,
   "metadata": {},
   "outputs": [],
   "source": [
    "#pd.concat([\"train\",\"item_non_missing\"],axis=1)\n",
    "train.drop(\"Item_Identifier\",axis=1)"
   ]
  },
  {
   "cell_type": "code",
   "execution_count": null,
   "metadata": {
    "scrolled": true
   },
   "outputs": [],
   "source": [
    "training_Set = pd.concat(objs=[item_non_missing,train.drop(labels=\"Item_Identifier\",axis=1)],axis=1)\n",
    "training_Set = training_Set.drop(labels=[\"Item_Weight\",\"Outlet_Identifier\"],axis=1)\n",
    "training_Set.head()"
   ]
  },
  {
   "cell_type": "code",
   "execution_count": null,
   "metadata": {},
   "outputs": [],
   "source": [
    "# Missing values for item fat \n",
    "def item_fat (x):\n",
    "    if x==\"low fat\":\n",
    "        return \"Low Fat\"\n",
    "    elif x==\"LF\":\n",
    "        return \"Low Fat\"\n",
    "    elif x==\"reg\":\n",
    "        return \"Regular\"\n",
    "    else:\n",
    "        return x\n",
    "    \n",
    "training_Set['Item_Fat_Content'] = training_Set.Item_Fat_Content.apply(item_fat)"
   ]
  },
  {
   "cell_type": "code",
   "execution_count": null,
   "metadata": {},
   "outputs": [],
   "source": [
    "training_Set[\"Outlet_Size\"] = training_Set.Outlet_Size.fillna(\"Unknown\")"
   ]
  },
  {
   "cell_type": "code",
   "execution_count": null,
   "metadata": {},
   "outputs": [],
   "source": [
    "training_Set[training_Set.Item_Weight_y.isnull()]"
   ]
  },
  {
   "cell_type": "code",
   "execution_count": null,
   "metadata": {
    "scrolled": true
   },
   "outputs": [],
   "source": [
    "item_type =training_Set.groupby('Item_Type')\n",
    "item_type.median()\n",
    "\n",
    "# Frozen foods 12.782404\n",
    "# snack foods 13.031230\n",
    "# dairy 13.379905\n",
    "# baking goods 12.285317\n",
    "\n",
    "training_Set[\"Item_Weight_y\"].iloc[927] = 12.782404\n",
    "training_Set[\"Item_Weight_y\"].iloc[1922] = 13.031230\n",
    "training_Set[\"Item_Weight_y\"].iloc[4187] = 13.379905\n",
    "training_Set[\"Item_Weight_y\"].iloc[5022] = 12.285317\n"
   ]
  },
  {
   "cell_type": "code",
   "execution_count": null,
   "metadata": {},
   "outputs": [],
   "source": [
    "training_Set[\"Item_Weight_y\"]=np.round(training_Set.Item_Weight_y,2)\n",
    "training_Set.head()"
   ]
  },
  {
   "cell_type": "code",
   "execution_count": null,
   "metadata": {},
   "outputs": [],
   "source": [
    "X = training_Set.drop(labels=['Item_Identifier','Item_Outlet_Sales'],axis=1)\n",
    "X = pd.get_dummies(X,columns=['Item_Fat_Content',\n",
    "                              'Item_Type',\n",
    "                            'Outlet_Size',\n",
    "                              'Outlet_Location_Type',\n",
    "                              'Outlet_Type',\n",
    "                                'Outlet_Establishment_Year'],\n",
    "                      \n",
    "               drop_first=True)\n",
    "\n",
    "y = training_Set.Item_Outlet_Sales"
   ]
  },
  {
   "cell_type": "code",
   "execution_count": null,
   "metadata": {},
   "outputs": [],
   "source": [
    "X.head()\n",
    "num_var = X[[\"Item_Weight_y\",'Item_Visibility','Item_MRP']]\n",
    "cat_var = X.drop(labels=['Item_Weight_y','Item_Visibility','Item_MRP'],axis=1)\n",
    "\n",
    "scaler_train = StandardScaler()\n",
    "scaler_train.fit(num_var)\n",
    "num_scaled = pd.DataFrame(scaler_train.transform(num_var),columns=num_var.columns)\n",
    "X = pd.concat([num_scaled,cat_var],axis=1)"
   ]
  },
  {
   "cell_type": "code",
   "execution_count": null,
   "metadata": {},
   "outputs": [],
   "source": [
    "X.head()"
   ]
  },
  {
   "cell_type": "code",
   "execution_count": null,
   "metadata": {},
   "outputs": [],
   "source": [
    "shuffle = KFold(n_splits=10,shuffle=True)"
   ]
  },
  {
   "cell_type": "markdown",
   "metadata": {},
   "source": [
    "# Regression Models\n"
   ]
  },
  {
   "cell_type": "markdown",
   "metadata": {},
   "source": [
    "### Linear Regression"
   ]
  },
  {
   "cell_type": "code",
   "execution_count": null,
   "metadata": {
    "scrolled": true
   },
   "outputs": [],
   "source": [
    "lm_model = LinearRegression()\n",
    "lm_scores = cross_val_score(estimator=lm_model,X= X,y=y,cv=shuffle,scoring='neg_mean_squared_error')\n",
    "print(np.sqrt(np.absolute(lm_scores.mean())))"
   ]
  },
  {
   "cell_type": "markdown",
   "metadata": {},
   "source": [
    "### Lasso Regression"
   ]
  },
  {
   "cell_type": "code",
   "execution_count": null,
   "metadata": {},
   "outputs": [],
   "source": [
    "lasso_model = Lasso()\n",
    "lasso_scores = cross_val_score(estimator=lasso_model,X= X,y=y,cv=10,scoring='neg_mean_squared_error')\n",
    "print(np.sqrt(np.absolute(lasso_scores.mean())))"
   ]
  },
  {
   "cell_type": "markdown",
   "metadata": {},
   "source": [
    "### Ridge Regression "
   ]
  },
  {
   "cell_type": "code",
   "execution_count": null,
   "metadata": {},
   "outputs": [],
   "source": [
    "ridge_model = Ridge()\n",
    "ridge_scores = cross_val_score(estimator=ridge_model,X= X,y=y,cv=shuffle,scoring='neg_mean_squared_error')\n",
    "print(np.sqrt(np.absolute(ridge_scores.mean())))"
   ]
  },
  {
   "cell_type": "markdown",
   "metadata": {},
   "source": [
    "### SVR "
   ]
  },
  {
   "cell_type": "code",
   "execution_count": null,
   "metadata": {
    "scrolled": true
   },
   "outputs": [],
   "source": [
    "svr_model = SVR(kernel=\"poly\")\n",
    "svr_scores = cross_val_score(estimator=svr_model,X= X,y=y,cv=shuffle,scoring='neg_mean_squared_error')\n",
    "print(np.sqrt(np.absolute(svr_scores.mean())))"
   ]
  },
  {
   "cell_type": "markdown",
   "metadata": {},
   "source": [
    "### Random Forest"
   ]
  },
  {
   "cell_type": "code",
   "execution_count": null,
   "metadata": {},
   "outputs": [],
   "source": [
    "rf_model = RandomForestRegressor(n_estimators=500)\n",
    "rf_scores = cross_val_score(estimator=rf_model,X= X,y=y,cv=shuffle,scoring='neg_mean_squared_error')\n",
    "print(np.sqrt(np.absolute(rf_scores.mean())))\n"
   ]
  },
  {
   "cell_type": "markdown",
   "metadata": {},
   "source": [
    "### Elastic Network"
   ]
  },
  {
   "cell_type": "code",
   "execution_count": null,
   "metadata": {},
   "outputs": [],
   "source": [
    "en_model = ElasticNet()\n",
    "en_scores = cross_val_score(estimator=en_model,X= X,y=y,cv=shuffle,scoring='neg_mean_squared_error')\n",
    "print(np.sqrt(np.absolute(en_scores.mean())))"
   ]
  },
  {
   "cell_type": "markdown",
   "metadata": {},
   "source": [
    "### XGBoost "
   ]
  },
  {
   "cell_type": "code",
   "execution_count": null,
   "metadata": {},
   "outputs": [],
   "source": [
    "import xgboost as xgb\n",
    "xgb_model = xgb.XGBRegressor()\n",
    "xgb_scores = cross_val_score(estimator=xgb_model,X= X,y=y,cv=shuffle,scoring='neg_mean_squared_error')\n",
    "print(np.sqrt(np.absolute(xgb_scores.mean())))"
   ]
  },
  {
   "cell_type": "markdown",
   "metadata": {},
   "source": [
    "# Test set"
   ]
  },
  {
   "cell_type": "code",
   "execution_count": null,
   "metadata": {},
   "outputs": [],
   "source": [
    "test.head()\n",
    "len(test)"
   ]
  },
  {
   "cell_type": "code",
   "execution_count": null,
   "metadata": {},
   "outputs": [],
   "source": [
    "test.isnull().sum()"
   ]
  },
  {
   "cell_type": "code",
   "execution_count": null,
   "metadata": {},
   "outputs": [],
   "source": [
    "# Clean Item_Fat_Content\n",
    "test[\"Item_Fat_Content\"] = test.Item_Fat_Content.apply(item_fat)\n",
    "\n",
    "# Clean Outlet_Size\n",
    "test[\"Outlet_Size\"] = test.Outlet_Size.fillna(\"Unknown\")"
   ]
  },
  {
   "cell_type": "code",
   "execution_count": null,
   "metadata": {},
   "outputs": [],
   "source": [
    "# clean item weights\n",
    "item_test = test[[\"Item_Identifier\",\"Item_Weight\"]]\n",
    "item_test[item_test.Item_Weight.isnull()][\"Item_Identifier\"].nunique()\n",
    "len(item_test)"
   ]
  },
  {
   "cell_type": "code",
   "execution_count": null,
   "metadata": {},
   "outputs": [],
   "source": [
    "unique_weights_test = item.sort_values(\"Item_Identifier\").drop_duplicates().dropna()\n",
    "len(unique_weights)"
   ]
  },
  {
   "cell_type": "code",
   "execution_count": null,
   "metadata": {},
   "outputs": [],
   "source": [
    "item_test_non_missing = pd.merge(item_test,unique_weights_test,how='left',on = \"Item_Identifier\")\n",
    "item_test_non_missing = item_test_non_missing.drop(labels=\"Item_Weight_x\",axis=1)\n",
    "item_test_non_missing.isnull().sum()"
   ]
  },
  {
   "cell_type": "code",
   "execution_count": null,
   "metadata": {},
   "outputs": [],
   "source": [
    "test_Set = pd.concat(objs=[item_test_non_missing,test.drop(labels=\"Item_Identifier\",axis=1)],axis=1)\n",
    "test_Set = test_Set.drop(labels=[\"Item_Weight\",\"Outlet_Identifier\"],axis=1)\n",
    "item_test_type =test_Set.groupby('Item_Type')\n",
    "item_test_type.mean()"
   ]
  },
  {
   "cell_type": "code",
   "execution_count": null,
   "metadata": {},
   "outputs": [],
   "source": [
    "test_Set.Item_Weight_y[test_Set.Item_Identifier==\"FDE52\"] = 13.03\n",
    "test_Set.Item_Weight_y[test_Set.Item_Identifier==\"FDN52\"] = 12.30\n",
    "test_Set.Item_Weight_y[test_Set.Item_Identifier==\"FDQ60\"] = 12.38\n",
    "test_Set.Item_Weight_y[test_Set.Item_Identifier==\"FDK57\"] = 12.69"
   ]
  },
  {
   "cell_type": "code",
   "execution_count": null,
   "metadata": {
    "scrolled": true
   },
   "outputs": [],
   "source": [
    "test_Set.isnull().sum()"
   ]
  },
  {
   "cell_type": "code",
   "execution_count": null,
   "metadata": {
    "scrolled": true
   },
   "outputs": [],
   "source": [
    "#test_Set = test_Set.drop(\"Item_Identifier\",axis=1)\n",
    "test_Set_num = test_Set[[\"Item_Weight_y\",\"Item_Visibility\",\"Item_MRP\"]]\n",
    "test_Set_cat = test_Set.drop([\"Item_Weight_y\",\"Item_Visibility\",\"Item_MRP\"],axis =1)\n",
    "\n",
    "scaler_test = StandardScaler()\n",
    "scaler_test.fit(test_Set_num)\n",
    "\n",
    "test_Set_cat = pd.get_dummies(data=test_Set_cat,columns=test_Set_cat.columns,drop_first=True)"
   ]
  },
  {
   "cell_type": "code",
   "execution_count": null,
   "metadata": {
    "scrolled": true
   },
   "outputs": [],
   "source": [
    "test_Set_num = pd.DataFrame(scaler_test.transform(test_Set_num),columns=test_Set_num.columns)\n",
    "test_Set_num"
   ]
  },
  {
   "cell_type": "code",
   "execution_count": null,
   "metadata": {},
   "outputs": [],
   "source": [
    "Final_test_set = pd.concat([test_Set_num,test_Set_cat],axis=1)"
   ]
  },
  {
   "cell_type": "code",
   "execution_count": null,
   "metadata": {},
   "outputs": [],
   "source": [
    "Final_test_set.head()"
   ]
  },
  {
   "cell_type": "code",
   "execution_count": null,
   "metadata": {},
   "outputs": [],
   "source": [
    "xgb_model.fit(X,y)\n",
    "rf_model.fit(X,y)"
   ]
  },
  {
   "cell_type": "code",
   "execution_count": null,
   "metadata": {},
   "outputs": [],
   "source": [
    "#xgb_predict = xgb_model.predict(Final_test_set)\n",
    "rf_pred = rf_model.predict(Final_test_set)"
   ]
  },
  {
   "cell_type": "code",
   "execution_count": null,
   "metadata": {},
   "outputs": [],
   "source": [
    "rf_pred = pd.DataFrame(rf_pred)\n",
    "rf_pred.to_csv(\"rfpred.csv\")"
   ]
  },
  {
   "cell_type": "code",
   "execution_count": null,
   "metadata": {},
   "outputs": [],
   "source": [
    "Final_test_set.head()"
   ]
  },
  {
   "cell_type": "code",
   "execution_count": null,
   "metadata": {},
   "outputs": [],
   "source": [
    "test.head()"
   ]
  },
  {
   "cell_type": "code",
   "execution_count": null,
   "metadata": {},
   "outputs": [],
   "source": []
  }
 ],
 "metadata": {
  "kernelspec": {
   "display_name": "Python 3",
   "language": "python",
   "name": "python3"
  },
  "language_info": {
   "codemirror_mode": {
    "name": "ipython",
    "version": 3
   },
   "file_extension": ".py",
   "mimetype": "text/x-python",
   "name": "python",
   "nbconvert_exporter": "python",
   "pygments_lexer": "ipython3",
   "version": "3.6.8"
  }
 },
 "nbformat": 4,
 "nbformat_minor": 2
}
